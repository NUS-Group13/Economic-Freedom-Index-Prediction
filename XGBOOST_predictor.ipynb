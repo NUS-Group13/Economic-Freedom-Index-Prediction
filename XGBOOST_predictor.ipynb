{
 "cells": [
  {
   "cell_type": "code",
   "execution_count": 432,
   "id": "9436f0a3",
   "metadata": {},
   "outputs": [],
   "source": [
    "import pandas as pd\n",
    "from sklearn.preprocessing import OneHotEncoder\n",
    "from sklearn.compose import make_column_transformer"
   ]
  },
  {
   "cell_type": "code",
   "execution_count": 433,
   "id": "cfe1c3c2",
   "metadata": {},
   "outputs": [],
   "source": [
    "df=pd.read_csv('final_processed.csv')"
   ]
  },
  {
   "cell_type": "code",
   "execution_count": 434,
   "id": "d570c451",
   "metadata": {},
   "outputs": [],
   "source": [
    "X=df.drop(['Score Category'], axis=1)\n",
    "y=df['Score Category']"
   ]
  },
  {
   "cell_type": "code",
   "execution_count": 435,
   "id": "a2e6aa7a",
   "metadata": {},
   "outputs": [],
   "source": [
    "X_train, X_test, y_train, y_test = train_test_split(X,y,test_size=0.4, random_state=100)"
   ]
  },
  {
   "cell_type": "code",
   "execution_count": 436,
   "id": "b8fd5a74",
   "metadata": {},
   "outputs": [
    {
     "data": {
      "text/plain": [
       "(990, 16)"
      ]
     },
     "execution_count": 436,
     "metadata": {},
     "output_type": "execute_result"
    }
   ],
   "source": [
    "X.shape"
   ]
  },
  {
   "cell_type": "markdown",
   "id": "3768f8de",
   "metadata": {},
   "source": [
    "# Xgboost"
   ]
  },
  {
   "cell_type": "code",
   "execution_count": 437,
   "id": "494d688b",
   "metadata": {},
   "outputs": [],
   "source": [
    "import xgboost as xgb"
   ]
  },
  {
   "cell_type": "code",
   "execution_count": 438,
   "id": "07423a30",
   "metadata": {},
   "outputs": [],
   "source": [
    "param = {}\n",
    "param['booster'] = 'gbtree'\n",
    "param['n_estimators'] = 50\n",
    "param['objective'] = 'binary:logistic'\n",
    "param[\"eval_metric\"] = \"error\"\n",
    "param['eta'] = 0.3\n",
    "param['gamma'] = 0\n",
    "param['max_depth'] = 3\n",
    "param['min_child_weight']=1\n",
    "param['max_delta_step'] = 0\n",
    "param['subsample']= 1\n",
    "param['colsample_bytree']=1\n",
    "param['silent'] = 1\n",
    "param['seed'] = 0\n",
    "param['base_score'] = 0.5"
   ]
  },
  {
   "cell_type": "code",
   "execution_count": 439,
   "id": "a2e76d14",
   "metadata": {},
   "outputs": [
    {
     "name": "stderr",
     "output_type": "stream",
     "text": [
      "D:\\Anaconda\\envs\\test_gpu\\lib\\site-packages\\xgboost\\core.py:502: FutureWarning: Pass `objective` as keyword args.  Passing these as positional arguments will be considered as error in future releases.\n",
      "  format(\", \".join(args_msg)), FutureWarning\n"
     ]
    }
   ],
   "source": [
    "model = xgb.XGBClassifier(param)"
   ]
  },
  {
   "cell_type": "code",
   "execution_count": 440,
   "id": "64a08687",
   "metadata": {},
   "outputs": [
    {
     "name": "stderr",
     "output_type": "stream",
     "text": [
      "D:\\Anaconda\\envs\\test_gpu\\lib\\site-packages\\xgboost\\sklearn.py:1224: UserWarning: The use of label encoder in XGBClassifier is deprecated and will be removed in a future release. To remove this warning, do the following: 1) Pass option use_label_encoder=False when constructing XGBClassifier object; and 2) Encode your labels (y) as integers starting with 0, i.e. 0, 1, 2, ..., [num_class - 1].\n",
      "  warnings.warn(label_encoder_deprecation_msg, UserWarning)\n"
     ]
    },
    {
     "name": "stdout",
     "output_type": "stream",
     "text": [
      "[16:56:14] WARNING: C:/Users/Administrator/workspace/xgboost-win64_release_1.5.1/src/learner.cc:1115: Starting in XGBoost 1.3.0, the default evaluation metric used with the objective 'multi:softprob' was changed from 'merror' to 'mlogloss'. Explicitly set eval_metric if you'd like to restore the old behavior.\n"
     ]
    }
   ],
   "source": [
    "model.fit(X_train,y_train)\n",
    "\n",
    "y_pred = model.predict(X_test)"
   ]
  },
  {
   "cell_type": "code",
   "execution_count": 442,
   "id": "b55f3ca1",
   "metadata": {},
   "outputs": [],
   "source": [
    "X = [[30, 92.5, 75.1, 10, 23.3, 3.2, 2, 13.5, -0.4, 58.9, 0, 1, 0, 0, 0, 0]]\n",
    "X=pd.DataFrame(X)\n",
    "X.columns=['Property Rights', 'Fiscal Freedom ', 'Gov Spending',\n",
    "       'Corporate Tax Rate (%)', 'Tax Burden % of GDP',\n",
    "       'Population (Millions)', 'GDP Growth Rate (%)', 'Unemployment (%)',\n",
    "       'FDI Inflow (Millions)', 'Public Debt (% of GDP)', 'Asia-Pacific',\n",
    "       'Europe', 'Middle East / North Africa', 'North America',\n",
    "       'South and Central America / Caribbean', 'Sub-Saharan Africa']"
   ]
  },
  {
   "cell_type": "code",
   "execution_count": 443,
   "id": "ed230297",
   "metadata": {},
   "outputs": [],
   "source": [
    "y_pred = model.predict(X)"
   ]
  },
  {
   "cell_type": "code",
   "execution_count": 444,
   "id": "84128d23",
   "metadata": {},
   "outputs": [
    {
     "name": "stdout",
     "output_type": "stream",
     "text": [
      "With the following input values, the county will fall in the category: [2]\n"
     ]
    }
   ],
   "source": [
    "print('With the following input values, the county will fall in the category:',y_pred)"
   ]
  },
  {
   "cell_type": "code",
   "execution_count": null,
   "id": "0cb09378",
   "metadata": {},
   "outputs": [],
   "source": []
  }
 ],
 "metadata": {
  "kernelspec": {
   "display_name": "Python 3",
   "language": "python",
   "name": "python3"
  },
  "language_info": {
   "codemirror_mode": {
    "name": "ipython",
    "version": 3
   },
   "file_extension": ".py",
   "mimetype": "text/x-python",
   "name": "python",
   "nbconvert_exporter": "python",
   "pygments_lexer": "ipython3",
   "version": "3.6.13"
  }
 },
 "nbformat": 4,
 "nbformat_minor": 5
}
