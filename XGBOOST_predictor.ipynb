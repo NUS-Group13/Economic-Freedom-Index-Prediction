{
 "cells": [
  {
   "cell_type": "code",
   "execution_count": 457,
   "id": "9436f0a3",
   "metadata": {},
   "outputs": [],
   "source": [
    "import pandas as pd\n",
    "from sklearn.preprocessing import OneHotEncoder\n",
    "from sklearn.compose import make_column_transformer"
   ]
  },
  {
   "cell_type": "code",
   "execution_count": 458,
   "id": "cfe1c3c2",
   "metadata": {},
   "outputs": [],
   "source": [
    "df=pd.read_csv('final_processed.csv')"
   ]
  },
  {
   "cell_type": "code",
   "execution_count": 459,
   "id": "d570c451",
   "metadata": {},
   "outputs": [],
   "source": [
    "X=df.drop(['Score Category'], axis=1)\n",
    "y=df['Score Category']"
   ]
  },
  {
   "cell_type": "code",
   "execution_count": 460,
   "id": "bce8e26f",
   "metadata": {},
   "outputs": [
    {
     "data": {
      "text/plain": [
       "array([3, 5, 1, 2, 4], dtype=int64)"
      ]
     },
     "execution_count": 460,
     "metadata": {},
     "output_type": "execute_result"
    }
   ],
   "source": [
    "y.unique()"
   ]
  },
  {
   "cell_type": "code",
   "execution_count": 448,
   "id": "adf678a6",
   "metadata": {},
   "outputs": [],
   "source": [
    "X_train, X_test, y_train, y_test = train_test_split(X,y,test_size=0.4, random_state=100)"
   ]
  },
  {
   "cell_type": "code",
   "execution_count": 449,
   "id": "37857a8f",
   "metadata": {},
   "outputs": [
    {
     "data": {
      "text/plain": [
       "(990, 16)"
      ]
     },
     "execution_count": 449,
     "metadata": {},
     "output_type": "execute_result"
    }
   ],
   "source": [
    "X.shape"
   ]
  },
  {
   "cell_type": "markdown",
   "id": "3768f8de",
   "metadata": {},
   "source": [
    "# Xgboost"
   ]
  },
  {
   "cell_type": "code",
   "execution_count": 450,
   "id": "6517fcfc",
   "metadata": {},
   "outputs": [],
   "source": [
    "import xgboost as xgb"
   ]
  },
  {
   "cell_type": "code",
   "execution_count": 451,
   "id": "8c414f60",
   "metadata": {},
   "outputs": [],
   "source": [
    "param = {}\n",
    "param['booster'] = 'gbtree'\n",
    "param['n_estimators'] = 50\n",
    "param['objective'] = 'binary:logistic'\n",
    "param[\"eval_metric\"] = \"error\"\n",
    "param['eta'] = 0.3\n",
    "param['gamma'] = 0\n",
    "param['max_depth'] = 3\n",
    "param['min_child_weight']=1\n",
    "param['max_delta_step'] = 0\n",
    "param['subsample']= 1\n",
    "param['colsample_bytree']=1\n",
    "param['silent'] = 1\n",
    "param['seed'] = 0\n",
    "param['base_score'] = 0.5"
   ]
  },
  {
   "cell_type": "code",
   "execution_count": 452,
   "id": "a2e76d14",
   "metadata": {},
   "outputs": [],
   "source": [
    "model = xgb.XGBClassifier(param)"
   ]
  },
  {
   "cell_type": "code",
   "execution_count": 453,
   "id": "64a08687",
   "metadata": {},
   "outputs": [
    {
     "name": "stdout",
     "output_type": "stream",
     "text": [
      "[16:59:43] WARNING: C:/Users/Administrator/workspace/xgboost-win64_release_1.5.1/src/learner.cc:1115: Starting in XGBoost 1.3.0, the default evaluation metric used with the objective 'multi:softprob' was changed from 'merror' to 'mlogloss'. Explicitly set eval_metric if you'd like to restore the old behavior.\n"
     ]
    }
   ],
   "source": [
    "model.fit(X_train,y_train)\n",
    "\n",
    "y_pred = model.predict(X_test)"
   ]
  },
  {
   "cell_type": "code",
   "execution_count": 454,
   "id": "5f3eaa95",
   "metadata": {},
   "outputs": [],
   "source": [
    "X = [[30, 92.5, 75.1, 10, 23.3, 3.2, 2, 13.5, -0.4, 58.9, 0, 1, 0, 0, 0, 0]]\n",
    "X=pd.DataFrame(X)\n",
    "X.columns=['Property Rights', 'Fiscal Freedom ', 'Gov Spending',\n",
    "       'Corporate Tax Rate (%)', 'Tax Burden % of GDP',\n",
    "       'Population (Millions)', 'GDP Growth Rate (%)', 'Unemployment (%)',\n",
    "       'FDI Inflow (Millions)', 'Public Debt (% of GDP)', 'Asia-Pacific',\n",
    "       'Europe', 'Middle East / North Africa', 'North America',\n",
    "       'South and Central America / Caribbean', 'Sub-Saharan Africa']"
   ]
  },
  {
   "cell_type": "code",
   "execution_count": 455,
   "id": "4e443f92",
   "metadata": {},
   "outputs": [],
   "source": [
    "y_pred = model.predict(X)"
   ]
  },
  {
   "cell_type": "code",
   "execution_count": 456,
   "id": "da0c480d",
   "metadata": {},
   "outputs": [
    {
     "name": "stdout",
     "output_type": "stream",
     "text": [
      "With the following input values, the county will fall in the category: [2]\n"
     ]
    }
   ],
   "source": [
    "print('With the following input values, the county will fall in the category:',y_pred)"
   ]
  },
  {
   "cell_type": "code",
   "execution_count": null,
   "id": "4d26566b",
   "metadata": {},
   "outputs": [],
   "source": []
  }
 ],
 "metadata": {
  "kernelspec": {
   "display_name": "Python 3",
   "language": "python",
   "name": "python3"
  },
  "language_info": {
   "codemirror_mode": {
    "name": "ipython",
    "version": 3
   },
   "file_extension": ".py",
   "mimetype": "text/x-python",
   "name": "python",
   "nbconvert_exporter": "python",
   "pygments_lexer": "ipython3",
   "version": "3.6.13"
  }
 },
 "nbformat": 4,
 "nbformat_minor": 5
}
